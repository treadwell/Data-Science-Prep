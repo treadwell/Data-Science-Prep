{
 "cells": [
  {
   "cell_type": "raw",
   "metadata": {},
   "source": [
    "# to use pip install, do:  ! command"
   ]
  },
  {
   "cell_type": "code",
   "execution_count": 1,
   "metadata": {
    "collapsed": false
   },
   "outputs": [
    {
     "name": "stdout",
     "output_type": "stream",
     "text": [
      "BostonRegression.ipynb  odsc-a.ipynb            odsc-d.ipynb\r\n",
      "ODSC.ipynb              odsc-b.ipynb\r\n",
      "OpenData ML notes.ipynb odsc-c.ipynb\r\n"
     ]
    }
   ],
   "source": [
    "!ls"
   ]
  },
  {
   "cell_type": "code",
   "execution_count": 2,
   "metadata": {
    "collapsed": false
   },
   "outputs": [
    {
     "name": "stdout",
     "output_type": "stream",
     "text": [
      "/Users/kbrooks/Documents/OpenDataScience\r\n"
     ]
    }
   ],
   "source": [
    "!pwd"
   ]
  },
  {
   "cell_type": "markdown",
   "metadata": {},
   "source": [
    "Wapnick - empirical risk minimization - not statistical at all.  SVM came from this.\n",
    "\n",
    "1. a\n",
    "2. b\n",
    "\n",
    "$\\alpha$ is alpha\n",
    "\n",
    "$$ \\alpha = \\frac{\\beta}{\\gamma}$$\n",
    "\n"
   ]
  },
  {
   "cell_type": "markdown",
   "metadata": {},
   "source": [
    "1. 3 hour tutorial from Pycon on Scikit learn (2014) Jake vanderPlas.  Olivier Grisel 2014\n",
    "2. Quantopia has some good analysis of stock market prices - it's basically random though over a longer period (based on CAPM)\n",
    "3. Adding data helps with an overfitted model, but not with a biased model\n",
    "4. All models are regularized by a lot of data\n",
    "5. "
   ]
  },
  {
   "cell_type": "markdown",
   "metadata": {},
   "source": [
    "Scikit Learn\n",
    "\n",
    "1. 2 interfaces: fit  and fit_transform\n",
    "2. use constructor to build model\n",
    "3. model.fit to fit it\n",
    "4. model.predict to predict\n",
    "5. cross validation functions - look them up and build it\n",
    "6. error calculation functions - look them up and build it\n",
    "7. Other feature selection approaches like RFE?"
   ]
  },
  {
   "cell_type": "markdown",
   "metadata": {},
   "source": [
    "Regularization\n",
    "\n",
    "1. As $\\alpha$ gets large your'e going into bias regime\n",
    "2. As it gets small you're going into variance\n",
    "3. Ridge regression forces coefficients down (basically feature selection) - deep connection with PCA - finding the appropriate subdimensional space\n",
    "4. Lasso regression zeros out some feature (selection again)"
   ]
  }
 ],
 "metadata": {
  "kernelspec": {
   "display_name": "Python 2",
   "language": "python",
   "name": "python2"
  },
  "language_info": {
   "codemirror_mode": {
    "name": "ipython",
    "version": 2
   },
   "file_extension": ".py",
   "mimetype": "text/x-python",
   "name": "python",
   "nbconvert_exporter": "python",
   "pygments_lexer": "ipython2",
   "version": "2.7.5"
  }
 },
 "nbformat": 4,
 "nbformat_minor": 0
}
