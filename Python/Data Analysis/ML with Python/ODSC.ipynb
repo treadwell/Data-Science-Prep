{
 "cells": [
  {
   "cell_type": "markdown",
   "metadata": {},
   "source": [
    "#Machine Learning\n",
    "\n",
    "##http://bit.ly/1RSnd21"
   ]
  },
  {
   "cell_type": "code",
   "execution_count": 1,
   "metadata": {
    "collapsed": true
   },
   "outputs": [],
   "source": [
    "%matplotlib inline\n",
    "import numpy as np\n",
    "import scipy as sp\n",
    "import matplotlib as mpl\n",
    "import matplotlib.cm as cm\n",
    "import matplotlib.pyplot as plt\n",
    "import pandas as pd\n",
    "pd.set_option('display.width', 500)\n",
    "pd.set_option('display.max_columns', 100)\n",
    "pd.set_option('display.notebook_repr_html', True)\n",
    "import seaborn as sns\n",
    "sns.set_style(\"white\")\n",
    "sns.set_context(\"poster\")"
   ]
  },
  {
   "cell_type": "markdown",
   "metadata": {},
   "source": [
    "![](http://qph.is.quoracdn.net/main-qimg-3504cc03d0a1581096eba9ef97cfd7eb?convert_to_webp=true)"
   ]
  },
  {
   "cell_type": "markdown",
   "metadata": {},
   "source": [
    "###Our Notebooks\n",
    "\n",
    "1. http://nbviewer.ipython.org/urls/dl.dropboxusercontent.com/u/75194/odsc-a.ipynb\n",
    "    - http://nbviewer.ipython.org/urls/dl.dropboxusercontent.com/u/75194/BostonRegression.ipynb\n",
    "2. http://nbviewer.ipython.org/urls/dl.dropboxusercontent.com/u/75194/odsc-b.ipynb\n",
    "3. http://nbviewer.ipython.org/urls/dl.dropboxusercontent.com/u/75194/odsc-c.ipynb\n",
    "4. http://nbviewer.ipython.org/urls/dl.dropboxusercontent.com/u/75194/odsc-d.ipynb\n",
    "\n",
    "###How to go about it"
   ]
  },
  {
   "cell_type": "markdown",
   "metadata": {},
   "source": [
    "![](http://scikit-learn.org/dev/_static/ml_map.png)"
   ]
  },
  {
   "cell_type": "code",
   "execution_count": null,
   "metadata": {
    "collapsed": true
   },
   "outputs": [],
   "source": []
  }
 ],
 "metadata": {
  "kernelspec": {
   "display_name": "Python 2",
   "language": "python",
   "name": "python2"
  },
  "language_info": {
   "codemirror_mode": {
    "name": "ipython",
    "version": 2
   },
   "file_extension": ".py",
   "mimetype": "text/x-python",
   "name": "python",
   "nbconvert_exporter": "python",
   "pygments_lexer": "ipython2",
   "version": "2.7.9"
  }
 },
 "nbformat": 4,
 "nbformat_minor": 0
}
