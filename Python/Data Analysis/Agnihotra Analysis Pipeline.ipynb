{
 "metadata": {
  "name": "",
  "signature": "sha256:788e52e36e6ad40d13b18a08d112c6f0dcca82aa1b18efe6082995f028823efd"
 },
 "nbformat": 3,
 "nbformat_minor": 0,
 "worksheets": [
  {
   "cells": [
    {
     "cell_type": "heading",
     "level": 1,
     "metadata": {},
     "source": [
      "Engagement vs. Performance to Predict Passing"
     ]
    },
    {
     "cell_type": "heading",
     "level": 2,
     "metadata": {},
     "source": [
      "Imports"
     ]
    },
    {
     "cell_type": "code",
     "collapsed": false,
     "input": [
      "#Before we start let us import everything we might need!\n",
      "from pandas import Series, DataFrame\n",
      "import pandas as pd\n",
      "import numpy as np\n",
      "import matplotlib.pyplot as plt\n",
      "#from mpl_toolkits.basemap import Basemap\n",
      "from pylab import *\n",
      "%matplotlib inline\n",
      "import os.path\n",
      "import math\n",
      "import sys\n",
      "from scipy.stats.stats import pearsonr\n",
      "import glob #for regular expression\n",
      "import re\n",
      "#from pyper import *\n",
      "import difflib\n",
      "from sklearn.datasets import make_classification\n",
      "from sklearn.ensemble import ExtraTreesClassifier\n",
      "import statsmodels.api as sm\n",
      "\n",
      "#set the path where data is stored\n",
      "FileLoc = '/Users/lalitha_agnihotri/Documents/Personal/KenData/'\n",
      "FileOut = '/Users/lalitha_agnihotri/Documents/Personal/KenData/'\n",
      "\n",
      "pd.set_option('display.max_columns', 50)\n"
     ],
     "language": "python",
     "metadata": {},
     "outputs": [],
     "prompt_number": 218
    },
    {
     "cell_type": "heading",
     "level": 2,
     "metadata": {},
     "source": [
      "Get files"
     ]
    },
    {
     "cell_type": "code",
     "collapsed": false,
     "input": [
      "myData = pd.read_csv(FileLoc+'CogSci-Godwinetal-2013-4.csv',index_col=None, header=0 )"
     ],
     "language": "python",
     "metadata": {},
     "outputs": [],
     "prompt_number": 221
    },
    {
     "cell_type": "code",
     "collapsed": false,
     "input": [
      "myData.head()"
     ],
     "language": "python",
     "metadata": {},
     "outputs": [
      {
       "html": [
        "<div style=\"max-height:1000px;max-width:1500px;overflow:auto;\">\n",
        "<table border=\"1\" class=\"dataframe\">\n",
        "  <thead>\n",
        "    <tr style=\"text-align: right;\">\n",
        "      <th></th>\n",
        "      <th>SCHOOL</th>\n",
        "      <th>Class</th>\n",
        "      <th>GRADE</th>\n",
        "      <th>CODER </th>\n",
        "      <th>STUDENTID</th>\n",
        "      <th>Gender</th>\n",
        "      <th>OBSNUM </th>\n",
        "      <th>totalobs-forsession</th>\n",
        "      <th>Dancing</th>\n",
        "      <th>Individual</th>\n",
        "      <th>Smallgroup</th>\n",
        "      <th>Testing</th>\n",
        "      <th>Wholecarpet</th>\n",
        "      <th>Wholedesks</th>\n",
        "      <th>ONTASK</th>\n",
        "      <th>TRANSITIONS</th>\n",
        "      <th>NumACTIVITIES</th>\n",
        "      <th>FORMATchanges</th>\n",
        "      <th>NumFORMATS</th>\n",
        "      <th>Obsv/act</th>\n",
        "      <th>Transitions/Durations </th>\n",
        "      <th>Total Time</th>\n",
        "    </tr>\n",
        "  </thead>\n",
        "  <tbody>\n",
        "    <tr>\n",
        "      <th>0</th>\n",
        "      <td> B</td>\n",
        "      <td> T9Q</td>\n",
        "      <td> 0</td>\n",
        "      <td> Z</td>\n",
        "      <td> 600865</td>\n",
        "      <td> 0</td>\n",
        "      <td> 1</td>\n",
        "      <td> 0</td>\n",
        "      <td> 0</td>\n",
        "      <td> 0</td>\n",
        "      <td> 0</td>\n",
        "      <td> 0</td>\n",
        "      <td> 1</td>\n",
        "      <td> 0</td>\n",
        "      <td> Y</td>\n",
        "      <td> 3</td>\n",
        "      <td> 4</td>\n",
        "      <td> 1</td>\n",
        "      <td> 2</td>\n",
        "      <td> 770.5</td>\n",
        "      <td> 0.004043</td>\n",
        "      <td>  0</td>\n",
        "    </tr>\n",
        "    <tr>\n",
        "      <th>1</th>\n",
        "      <td> B</td>\n",
        "      <td> T9Q</td>\n",
        "      <td> 0</td>\n",
        "      <td> Z</td>\n",
        "      <td> 596466</td>\n",
        "      <td> 0</td>\n",
        "      <td> 1</td>\n",
        "      <td> 1</td>\n",
        "      <td> 0</td>\n",
        "      <td> 0</td>\n",
        "      <td> 0</td>\n",
        "      <td> 0</td>\n",
        "      <td> 1</td>\n",
        "      <td> 0</td>\n",
        "      <td> Y</td>\n",
        "      <td> 3</td>\n",
        "      <td> 4</td>\n",
        "      <td> 1</td>\n",
        "      <td> 2</td>\n",
        "      <td> 770.5</td>\n",
        "      <td> 0.004043</td>\n",
        "      <td> 23</td>\n",
        "    </tr>\n",
        "    <tr>\n",
        "      <th>2</th>\n",
        "      <td> B</td>\n",
        "      <td> T9Q</td>\n",
        "      <td> 0</td>\n",
        "      <td> Z</td>\n",
        "      <td> 616590</td>\n",
        "      <td> 0</td>\n",
        "      <td> 1</td>\n",
        "      <td> 2</td>\n",
        "      <td> 0</td>\n",
        "      <td> 0</td>\n",
        "      <td> 0</td>\n",
        "      <td> 0</td>\n",
        "      <td> 1</td>\n",
        "      <td> 0</td>\n",
        "      <td> Y</td>\n",
        "      <td> 3</td>\n",
        "      <td> 4</td>\n",
        "      <td> 1</td>\n",
        "      <td> 2</td>\n",
        "      <td> 770.5</td>\n",
        "      <td> 0.004043</td>\n",
        "      <td> 25</td>\n",
        "    </tr>\n",
        "    <tr>\n",
        "      <th>3</th>\n",
        "      <td> B</td>\n",
        "      <td> T9Q</td>\n",
        "      <td> 0</td>\n",
        "      <td> Z</td>\n",
        "      <td> 734358</td>\n",
        "      <td> 1</td>\n",
        "      <td> 1</td>\n",
        "      <td> 3</td>\n",
        "      <td> 0</td>\n",
        "      <td> 0</td>\n",
        "      <td> 0</td>\n",
        "      <td> 0</td>\n",
        "      <td> 1</td>\n",
        "      <td> 0</td>\n",
        "      <td> Y</td>\n",
        "      <td> 3</td>\n",
        "      <td> 4</td>\n",
        "      <td> 1</td>\n",
        "      <td> 2</td>\n",
        "      <td> 770.5</td>\n",
        "      <td> 0.004043</td>\n",
        "      <td> 27</td>\n",
        "    </tr>\n",
        "    <tr>\n",
        "      <th>4</th>\n",
        "      <td> B</td>\n",
        "      <td> T9Q</td>\n",
        "      <td> 0</td>\n",
        "      <td> Z</td>\n",
        "      <td> 826308</td>\n",
        "      <td> 1</td>\n",
        "      <td> 1</td>\n",
        "      <td> 4</td>\n",
        "      <td> 0</td>\n",
        "      <td> 0</td>\n",
        "      <td> 0</td>\n",
        "      <td> 0</td>\n",
        "      <td> 1</td>\n",
        "      <td> 0</td>\n",
        "      <td> Y</td>\n",
        "      <td> 3</td>\n",
        "      <td> 4</td>\n",
        "      <td> 1</td>\n",
        "      <td> 2</td>\n",
        "      <td> 770.5</td>\n",
        "      <td> 0.004043</td>\n",
        "      <td> 31</td>\n",
        "    </tr>\n",
        "  </tbody>\n",
        "</table>\n",
        "</div>"
       ],
       "metadata": {},
       "output_type": "pyout",
       "prompt_number": 11,
       "text": [
        "  SCHOOL Class  GRADE CODER   STUDENTID  Gender  OBSNUM   totalobs-forsession  \\\n",
        "0      B   T9Q      0      Z     600865       0        1                    0   \n",
        "1      B   T9Q      0      Z     596466       0        1                    1   \n",
        "2      B   T9Q      0      Z     616590       0        1                    2   \n",
        "3      B   T9Q      0      Z     734358       1        1                    3   \n",
        "4      B   T9Q      0      Z     826308       1        1                    4   \n",
        "\n",
        "   Dancing  Individual  Smallgroup  Testing  Wholecarpet  Wholedesks ONTASK  \\\n",
        "0        0           0           0        0            1           0      Y   \n",
        "1        0           0           0        0            1           0      Y   \n",
        "2        0           0           0        0            1           0      Y   \n",
        "3        0           0           0        0            1           0      Y   \n",
        "4        0           0           0        0            1           0      Y   \n",
        "\n",
        "   TRANSITIONS  NumACTIVITIES  FORMATchanges  NumFORMATS  Obsv/act  \\\n",
        "0            3              4              1           2     770.5   \n",
        "1            3              4              1           2     770.5   \n",
        "2            3              4              1           2     770.5   \n",
        "3            3              4              1           2     770.5   \n",
        "4            3              4              1           2     770.5   \n",
        "\n",
        "   Transitions/Durations   Total Time  \n",
        "0                0.004043           0  \n",
        "1                0.004043          23  \n",
        "2                0.004043          25  \n",
        "3                0.004043          27  \n",
        "4                0.004043          31  "
       ]
      }
     ],
     "prompt_number": 11
    },
    {
     "cell_type": "code",
     "collapsed": false,
     "input": [
      "myData.columns\n"
     ],
     "language": "python",
     "metadata": {},
     "outputs": [
      {
       "metadata": {},
       "output_type": "pyout",
       "prompt_number": 22,
       "text": [
        "Index([u'SCHOOL', u'Class', u'GRADE', u'CODER ', u'STUDENTID', u'Gender', u'OBSNUM ', u'totalobs-forsession', u'Dancing', u'Individual', u'Smallgroup', u'Testing', u'Wholecarpet', u'Wholedesks', u'ONTASK', u'TRANSITIONS', u'NumACTIVITIES', u'FORMATchanges', u'NumFORMATS', u'Obsv/act', u'Transitions/Durations ', u'Total Time'], dtype='object')"
       ]
      }
     ],
     "prompt_number": 22
    },
    {
     "cell_type": "code",
     "collapsed": false,
     "input": [
      "dataSet = myData[['STUDENTID','GRADE', 'Gender', 'Dancing', 'Testing', 'Smallgroup', 'Wholecarpet','Wholedesks', 'Total Time', 'TRANSITIONS', 'ONTASK']]"
     ],
     "language": "python",
     "metadata": {},
     "outputs": [],
     "prompt_number": 121
    },
    {
     "cell_type": "code",
     "collapsed": false,
     "input": [
      "dataSet['GRADE'].unique()"
     ],
     "language": "python",
     "metadata": {},
     "outputs": [
      {
       "metadata": {},
       "output_type": "pyout",
       "prompt_number": 142,
       "text": [
        "array([0, 1, 2, 3, 4])"
       ]
      }
     ],
     "prompt_number": 142
    },
    {
     "cell_type": "code",
     "collapsed": false,
     "input": [
      "myData[myData['Dancing']==1].count()"
     ],
     "language": "python",
     "metadata": {},
     "outputs": [
      {
       "metadata": {},
       "output_type": "pyout",
       "prompt_number": 188,
       "text": [
        "SCHOOL                    143\n",
        "Class                     143\n",
        "GRADE                     143\n",
        "CODER                     143\n",
        "STUDENTID                 143\n",
        "Gender                    143\n",
        "OBSNUM                    143\n",
        "totalobs-forsession       143\n",
        "Dancing                   143\n",
        "Individual                143\n",
        "Smallgroup                143\n",
        "Testing                   143\n",
        "Wholecarpet               143\n",
        "Wholedesks                143\n",
        "ONTASK                    143\n",
        "TRANSITIONS               143\n",
        "NumACTIVITIES             143\n",
        "FORMATchanges             143\n",
        "NumFORMATS                143\n",
        "Obsv/act                  143\n",
        "Transitions/Durations     143\n",
        "Total Time                143\n",
        "dtype: int64"
       ]
      }
     ],
     "prompt_number": 188
    },
    {
     "cell_type": "code",
     "collapsed": false,
     "input": [
      "dataSet['Outcome'] = dataSet['ONTASK'].apply(lambda x: 0 if x=='N' else 1) #switch it so 1 means at risk"
     ],
     "language": "python",
     "metadata": {},
     "outputs": [],
     "prompt_number": 124
    },
    {
     "cell_type": "heading",
     "level": 3,
     "metadata": {},
     "source": [
      "Make some plots"
     ]
    },
    {
     "cell_type": "code",
     "collapsed": false,
     "input": [
      "from scipy import stats\n",
      "\n",
      "#slope, intercept, r_value, p_value, std_err = stats.linregress(dataSet['TRANSITIONS'], dataSet['Total Time'])\n",
      "plt.scatter(dataSet['TRANSITIONS'], dataSet['Outcome'])\n",
      "#plt.plot(myData['Transitions/Durations '], intercept+myData['Total Time']*slope, c='y')\n",
      "\n",
      "#title('Transitions/Durations vs. Total Time')\n",
      "#xlabel('Transitions/Durations')\n",
      "#ylabel('Total Time')"
     ],
     "language": "python",
     "metadata": {},
     "outputs": [
      {
       "metadata": {},
       "output_type": "pyout",
       "prompt_number": 126,
       "text": [
        "<matplotlib.collections.PathCollection at 0x10dc95dd0>"
       ]
      },
      {
       "metadata": {},
       "output_type": "display_data",
       "png": "[encoded data removed]",
       "text": [
        "<matplotlib.figure.Figure at 0x10e01f090>"
       ]
      }
     ],
     "prompt_number": 126
    },
    {
     "cell_type": "heading",
     "level": 3,
     "metadata": {},
     "source": [
      "Use the entire dataset to determine weighting of different features"
     ]
    },
    {
     "cell_type": "code",
     "collapsed": false,
     "input": [
      "from sklearn.ensemble import RandomForestClassifier as rfc"
     ],
     "language": "python",
     "metadata": {},
     "outputs": [],
     "prompt_number": 127
    },
    {
     "cell_type": "code",
     "collapsed": false,
     "input": [
      "X=dataSet[['GRADE', 'Gender', 'Dancing', 'Smallgroup', 'Wholecarpet', 'TRANSITIONS']]\n",
      "y=dataSet['Outcome']\n",
      "forest =ExtraTreesClassifier(n_estimators=500,\n",
      "                              random_state=0)"
     ],
     "language": "python",
     "metadata": {},
     "outputs": [],
     "prompt_number": 128
    },
    {
     "cell_type": "code",
     "collapsed": false,
     "input": [
      "X2=dataSet[['GRADE', 'Gender', 'Dancing', 'Testing', 'Smallgroup', 'Wholecarpet','Wholedesks', 'Total Time', 'TRANSITIONS']]\n",
      "y2=dataSet['Outcome']\n",
      "forest =ExtraTreesClassifier(n_estimators=500,\n",
      "                              random_state=0)"
     ],
     "language": "python",
     "metadata": {},
     "outputs": [],
     "prompt_number": 271
    },
    {
     "cell_type": "code",
     "collapsed": false,
     "input": [
      "\n",
      "\n",
      "forest.fit(X, y)\n",
      "importances = forest.feature_importances_\n",
      "std = np.std([tree.feature_importances_ for tree in forest.estimators_],\n",
      "             axis=0)\n",
      "indices = np.argsort(importances)[::-1]\n",
      "\n",
      "# Print the feature ranking\n",
      "print(\"Feature ranking:\")\n",
      "\n",
      "for f in range(len(indices)):\n",
      "    print(\"%d. feature %d (%f)\" % (f + 1, indices[f], importances[indices[f]]))\n",
      "\n",
      "l = len(indices)\n",
      "    \n",
      "# Plot the feature importances of the forest\n",
      "import pylab as pl\n",
      "figure()\n",
      "title(\"Feature importances\")\n",
      "bar(range(l), importances[indices],\n",
      "       color=\"r\", yerr=std[indices], align=\"center\")\n",
      "xticks(range(l), ('GRADE', 'Gender', 'Dancing', 'Smallgroup', 'Wholecarpet', 'TRANSITIONS'))\n",
      "xlim([-1, l])\n",
      "#pl.show()"
     ],
     "language": "python",
     "metadata": {},
     "outputs": [
      {
       "output_type": "stream",
       "stream": "stdout",
       "text": [
        "Feature ranking:\n",
        "1. feature 5 (0.430391)\n",
        "2. feature 0 (0.300317)\n",
        "3. feature 1 (0.099353)\n",
        "4. feature 3 (0.096955)\n",
        "5. feature 4 (0.061341)\n",
        "6. feature 2 (0.011644)\n"
       ]
      },
      {
       "metadata": {},
       "output_type": "pyout",
       "prompt_number": 140,
       "text": [
        "(-1, 6)"
       ]
      },
      {
       "metadata": {},
       "output_type": "display_data",
       "png": "[encoded data removed]",
       "text": [
        "<matplotlib.figure.Figure at 0x10c97ae10>"
       ]
      }
     ],
     "prompt_number": 140
    },
    {
     "cell_type": "code",
     "collapsed": false,
     "input": [
      "\n",
      "forest.fit(X2, y2)\n",
      "importances = forest.feature_importances_\n",
      "std = np.std([tree.feature_importances_ for tree in forest.estimators_],\n",
      "             axis=0)\n",
      "indices = np.argsort(importances)[::-1]\n",
      "\n",
      "# Print the feature ranking\n",
      "print(\"Feature ranking:\")\n",
      "\n",
      "for f in range(len(indices)):\n",
      "    print(\"%d. feature %d (%f)\" % (f + 1, indices[f], importances[indices[f]]))\n",
      "\n",
      "l = len(indices)\n",
      "    \n",
      "# Plot the feature importances of the forest\n",
      "import pylab as pl\n",
      "figure()\n",
      "title(\"Feature importances\")\n",
      "bar(range(l), importances[indices],\n",
      "       color=\"r\", yerr=std[indices], align=\"center\")\n",
      "xticks(range(l), ('GRADE', 'Gender', 'Dancing', 'Testing', 'Smallgroup', 'Wholecarpet','Wholedesks', 'Total Time', 'TRANSITIONS'))\n",
      "xlim([-1, l])\n",
      "#pl.show()"
     ],
     "language": "python",
     "metadata": {},
     "outputs": [
      {
       "output_type": "stream",
       "stream": "stdout",
       "text": [
        "Feature ranking:\n",
        "1. feature 7 (0.946527)\n",
        "2. feature 8 (0.026072)\n",
        "3. feature 0 (0.015297)\n",
        "4. feature 1 (0.003948)\n",
        "5. feature 4 (0.003178)\n",
        "6. feature 5 (0.003103)\n",
        "7. feature 3 (0.001389)\n",
        "8. feature 2 (0.000485)\n",
        "9. feature 6 (0.000000)\n"
       ]
      },
      {
       "metadata": {},
       "output_type": "pyout",
       "prompt_number": 295,
       "text": [
        "(-1, 9)"
       ]
      },
      {
       "metadata": {},
       "output_type": "display_data",
       "png": "[encoded data removed]",
       "text": [
        "<matplotlib.figure.Figure at 0x11089ac90>"
       ]
      }
     ],
     "prompt_number": 295
    },
    {
     "cell_type": "heading",
     "level": 3,
     "metadata": {},
     "source": [
      "Train and test different models"
     ]
    },
    {
     "cell_type": "code",
     "collapsed": false,
     "input": [
      "from matplotlib.colors import ListedColormap\n",
      "from sklearn import neighbors, datasets\n",
      "from sklearn.naive_bayes import GaussianNB as gnb\n",
      "from sklearn.linear_model import LogisticRegression\n",
      "from sklearn.ensemble import RandomForestClassifier as rfc\n",
      "import random \n",
      "\n",
      "def runModels(dataSet, featureArray, modelNum):\n",
      "# 1 for KNN\n",
      "# 2 for Naive Bayes\n",
      "# 3 for Logistic Regression\n",
      "# 4 for random forest\n",
      "    myFeatures = ''\n",
      "    for i in (range(len(featureArray))): \n",
      "        myFeatures += featureArray[i] + ' ';\n",
      "    testSampleSize = dataSet['STUDENTID'].nunique()/10\n",
      "    trainingSampleSize = dataSet['STUDENTID'].nunique() - testSampleSize\n",
      "    rows = random.sample(dataSet.STUDENTID, int(testSampleSize))\n",
      "    testData = dataSet[dataSet['STUDENTID'].isin(rows)]\n",
      "    trainingData = dataSet[dataSet['STUDENTID'].isin(rows)==False]\n",
      "\n",
      "   \n",
      "    X = trainingData[featureArray]\n",
      "    y = trainingData['Outcome']\n",
      "\n",
      "    if modelNum == 1:\n",
      "        modelName = 'KNN'\n",
      "        clf = neighbors.KNeighborsClassifier(10, weights='uniform') #tried a few numbers for K, 10 gave best results\n",
      "    \n",
      "    if modelNum == 2:\n",
      "        modelName = 'Naive Bayes'\n",
      "        clf = gnb()\n",
      "\n",
      "    if modelNum == 3:\n",
      "        modelName = 'Logistic Regression'\n",
      "        clf = LogisticRegression()\n",
      "\n",
      "    if modelNum == 4:\n",
      "        modelName = 'Random Forest'\n",
      "        clf = rfc()\n",
      "\n",
      "    clf = clf.fit(X,y)\n",
      "    predictions = clf.predict(testData[featureArray])\n",
      "    real = testData['Outcome']\n",
      "    RMSE= round(sqrt(sum(pow((predictions-real),2))/float(len(real))),2) #RMSE=0.290\n",
      "    a=(predictions-real).tolist().count(1) #predicting \"on task\" on a \"off task\" student \n",
      "    b=  real.tolist().count(0)\n",
      "    errOffTask = round(a/float(b),2)\n",
      "    c=(predictions-real).tolist().count(-1) #predicting \"off task\" on a \"on task\"  students\n",
      "    d=real.tolist().count(1)\n",
      "    errOnTask =round( c/float(d),2)\n",
      "    accuracy = round((predictions-real).tolist().count(0)/float(len(real)),2) #overall accuracy\n",
      "    print ('Results for '+ modelName)\n",
      "    print ('Results for '+ myFeatures)\n",
      "    print ( 'RMSE = ' + str(RMSE))\n",
      "    print ( 'Predicted \"on task\" on a \"off task\" student '+ str(a))\n",
      "    print ('Total \"off task\" students '+ str(b))\n",
      "    print ('Predicted \"off task\" on a \"on task\" student '+ str(c))\n",
      "    print ('Total \"on task\" students ' + str (d))\n",
      "    print ('Error Off Task '+ str(errOffTask))\n",
      "    print ('Error On Task '+  str(errOnTask))\n",
      "    print ('Overall Accuracy ' + str(accuracy))\n",
      "\n",
      "    return (RMSE, a, b, c, d, errOffTask, errOnTask, accuracy)"
     ],
     "language": "python",
     "metadata": {},
     "outputs": [],
     "prompt_number": 313
    },
    {
     "cell_type": "code",
     "collapsed": false,
     "input": [
      "featureSet1=  ['GRADE', 'Gender', 'Dancing', 'Smallgroup', 'Wholecarpet', 'TRANSITIONS']\n",
      "featureSet2 = ['GRADE', 'Gender', 'Dancing', 'Testing', 'Smallgroup', 'Wholecarpet','Wholedesks', 'Total Time', 'TRANSITIONS']\n",
      "runModels(dataSet, featureSet1,1)"
     ],
     "language": "python",
     "metadata": {},
     "outputs": [
      {
       "output_type": "stream",
       "stream": "stdout",
       "text": [
        "Results for KNN\n",
        "Results for GRADE Gender Dancing Smallgroup Wholecarpet TRANSITIONS \n",
        "RMSE = 0.63\n",
        "Predicted \"on task\" on a \"off task\" student 884\n",
        "Total \"off task\" students 1176\n",
        "Predicted \"off task\" on a \"on task\" student 564\n",
        "Total \"on task\" students 2422\n",
        "Error Off Task 0.75\n",
        "Error On Task 0.23\n",
        "Overall Accuracy 0.6\n"
       ]
      },
      {
       "metadata": {},
       "output_type": "pyout",
       "prompt_number": 314,
       "text": [
        "(0.63, 884, 1176, 564, 2422, 0.75, 0.23, 0.6)"
       ]
      }
     ],
     "prompt_number": 314
    },
    {
     "cell_type": "code",
     "collapsed": false,
     "input": [
      "featureSet1=  ['GRADE', 'Gender', 'Dancing', 'Smallgroup', 'Wholecarpet', 'TRANSITIONS']\n",
      "featureSet2 = ['GRADE', 'Gender', 'Dancing', 'Testing', 'Smallgroup', 'Wholecarpet','Wholedesks', 'Total Time', 'TRANSITIONS']\n",
      "runModels(dataSet, featureSet2,4)"
     ],
     "language": "python",
     "metadata": {},
     "outputs": [
      {
       "output_type": "stream",
       "stream": "stdout",
       "text": [
        "Results for Random Forest\n",
        "Results for GRADE Gender Dancing Testing Smallgroup Wholecarpet Wholedesks Total Time TRANSITIONS \n",
        "RMSE = 0.66\n",
        "Predicted \"on task\" on a \"off task\" student 896\n",
        "Total \"off task\" students 1337\n",
        "Predicted \"off task\" on a \"on task\" student 888\n",
        "Total \"on task\" students 2748\n",
        "Error Off Task 0.67\n",
        "Error On Task 0.32\n",
        "Overall Accuracy 0.56\n"
       ]
      },
      {
       "metadata": {},
       "output_type": "pyout",
       "prompt_number": 315,
       "text": [
        "(0.66, 896, 1337, 888, 2748, 0.67, 0.32, 0.56)"
       ]
      }
     ],
     "prompt_number": 315
    }
   ],
   "metadata": {}
  }
 ]
}