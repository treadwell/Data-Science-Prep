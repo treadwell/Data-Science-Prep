{
 "cells": [
  {
   "cell_type": "code",
   "execution_count": 129,
   "metadata": {
    "collapsed": false
   },
   "outputs": [],
   "source": [
    "%matplotlib inline\n",
    "import numpy as np\n",
    "import scipy as sp\n",
    "import matplotlib as mpl\n",
    "import matplotlib.cm as cm\n",
    "import matplotlib.pyplot as plt\n",
    "import pandas as pd\n",
    "pd.set_option('display.width', 500)\n",
    "pd.set_option('display.max_columns', 100)\n",
    "pd.set_option('display.notebook_repr_html', True)\n"
   ]
  },
  {
   "cell_type": "code",
   "execution_count": 130,
   "metadata": {
    "collapsed": true
   },
   "outputs": [],
   "source": [
    "# Plot things\n",
    "def plot_coefficients(est, ax, alpha):\n",
    "    coef = est.coef_.ravel()\n",
    "    ax.semilogy(np.abs(coef), marker='o', label=\"alpha = %s\" % str(alpha))\n",
    "    ax.set_ylim((1e-1, 1e15))\n",
    "    ax.set_ylabel('abs(coefficient)')\n",
    "    ax.set_xlabel('coefficients')\n",
    "    ax.legend(loc='upper left')\n",
    "    \n",
    "def plot_functions(est, ax, df, d, alpha, xtrain, ytrain, Xtrain, xtest, ytest):\n",
    "    \"\"\"Plot the approximation of ``est`` on axis ``ax``. \"\"\"\n",
    "    ax.plot(df.x, df.f, color='k', label='f')\n",
    "    ax.plot(xtrain, ytrain, 's', alpha=0.4, label=\"train\")\n",
    "    ax.plot(xtest, ytest, 's', alpha=0.6, label=\"test\")\n",
    "    transx=np.arange(0,1.1,0.01)\n",
    "    transX = PolynomialFeatures(d).fit_transform(transx.reshape(-1,1))\n",
    "    ax.plot(transx, est.predict(transX), '.', alpha=0.6, label=\"alpha = %s\" % str(alpha))\n",
    "    \n",
    "    ax.set_ylim((0, 1))\n",
    "    ax.set_xlim((0, 1))\n",
    "    ax.set_ylabel('y')\n",
    "    ax.set_xlabel('x')\n",
    "    ax.legend(loc='lower right')"
   ]
  },
  {
   "cell_type": "code",
   "execution_count": 131,
   "metadata": {
    "collapsed": false,
    "scrolled": false
   },
   "outputs": [
    {
     "data": {
      "text/html": [
       "<div style=\"max-height:1000px;max-width:1500px;overflow:auto;\">\n",
       "<table border=\"1\" class=\"dataframe\">\n",
       "  <thead>\n",
       "    <tr style=\"text-align: right;\">\n",
       "      <th></th>\n",
       "      <th>f</th>\n",
       "      <th>x</th>\n",
       "      <th>y</th>\n",
       "    </tr>\n",
       "  </thead>\n",
       "  <tbody>\n",
       "    <tr>\n",
       "      <th>0</th>\n",
       "      <td> 0.051199</td>\n",
       "      <td> 0.01</td>\n",
       "      <td> 0.015900</td>\n",
       "    </tr>\n",
       "    <tr>\n",
       "      <th>1</th>\n",
       "      <td> 0.096800</td>\n",
       "      <td> 0.11</td>\n",
       "      <td> 0.058539</td>\n",
       "    </tr>\n",
       "    <tr>\n",
       "      <th>2</th>\n",
       "      <td> 0.102637</td>\n",
       "      <td> 0.12</td>\n",
       "      <td> 0.072802</td>\n",
       "    </tr>\n",
       "    <tr>\n",
       "      <th>3</th>\n",
       "      <td> 0.221640</td>\n",
       "      <td> 0.27</td>\n",
       "      <td> 0.224652</td>\n",
       "    </tr>\n",
       "    <tr>\n",
       "      <th>4</th>\n",
       "      <td> 0.394863</td>\n",
       "      <td> 0.42</td>\n",
       "      <td> 0.370738</td>\n",
       "    </tr>\n",
       "  </tbody>\n",
       "</table>\n",
       "</div>"
      ],
      "text/plain": [
       "          f     x         y\n",
       "0  0.051199  0.01  0.015900\n",
       "1  0.096800  0.11  0.058539\n",
       "2  0.102637  0.12  0.072802\n",
       "3  0.221640  0.27  0.224652\n",
       "4  0.394863  0.42  0.370738"
      ]
     },
     "execution_count": 131,
     "metadata": {},
     "output_type": "execute_result"
    }
   ],
   "source": [
    "# Import data\n",
    "\n",
    "path = \"romneysamples.csv\"\n",
    "df = pd.read_csv(path)\n",
    "df.head()"
   ]
  },
  {
   "cell_type": "code",
   "execution_count": 132,
   "metadata": {
    "collapsed": true
   },
   "outputs": [],
   "source": [
    "from sklearn.cross_validation import train_test_split\n",
    "\n",
    "datasize=df.shape[0]\n",
    "#split dataset using the index, as we have x, f, and y that we want to split.\n",
    "itrain,itest = train_test_split(range(datasize),train_size=24, test_size=6)\n",
    "xtrain= df.x[itrain].values\n",
    "ftrain = df.f[itrain].values\n",
    "ytrain = df.y[itrain].values\n",
    "xtest= df.x[itest].values\n",
    "ftest = df.f[itest].values\n",
    "ytest = df.y[itest].values"
   ]
  },
  {
   "cell_type": "code",
   "execution_count": 133,
   "metadata": {
    "collapsed": false
   },
   "outputs": [],
   "source": [
    "# split dataset into train and test\n",
    "\n",
    "d = 10 # base polynomial degree\n",
    "\n",
    "traintestlist = make_features(xtrain, xtest, [d])[0] # takes and returns lists\n",
    "fit = lambda x: PolynomialFeatures(d).fit_transform(x.reshape(-1,1))\n",
    "Xtrain, Xtest = fit(xtrain), fit(xtest)"
   ]
  },
  {
   "cell_type": "code",
   "execution_count": 134,
   "metadata": {
    "collapsed": false
   },
   "outputs": [
    {
     "data": {
      "text/plain": [
       "(Ridge(alpha=0.01, copy_X=True, fit_intercept=True, max_iter=None,\n",
       "    normalize=False, solver='auto', tol=0.001),\n",
       " {'alpha': 0.01},\n",
       " -0.0033911761777304177,\n",
       " [mean: -0.01930, std: 0.01917, params: {'alpha': 1},\n",
       "  mean: -0.00572, std: 0.00500, params: {'alpha': 0.1},\n",
       "  mean: -0.00339, std: 0.00116, params: {'alpha': 0.01},\n",
       "  mean: -0.00378, std: 0.00100, params: {'alpha': 0.001},\n",
       "  mean: -0.00595, std: 0.00396, params: {'alpha': 0.0001},\n",
       "  mean: -0.00811, std: 0.00706, params: {'alpha': 1e-05},\n",
       "  mean: -0.03577, std: 0.04565, params: {'alpha': 1e-06},\n",
       "  mean: -0.09942, std: 0.12911, params: {'alpha': 1e-07},\n",
       "  mean: -0.57585, std: 0.98433, params: {'alpha': 1e-08}])"
      ]
     },
     "execution_count": 134,
     "metadata": {},
     "output_type": "execute_result"
    }
   ],
   "source": [
    "# cross validation setup\n",
    "from sklearn.linear_model import Ridge\n",
    "from sklearn.metrics import make_scorer\n",
    "from sklearn.grid_search import GridSearchCV\n",
    "from sklearn.metrics import mean_squared_error\n",
    "\n",
    "ALPHA = [10**(-x) for x in xrange(9)] # which alphas to test\n",
    "\n",
    "def cv_optimize_ridge(X, y, n_folds=4):\n",
    "    clf = Ridge()\n",
    "    parameters = {\"alpha\": ALPHA}\n",
    "    gs = GridSearchCV(clf, param_grid=parameters, cv=n_folds, scoring=\"mean_squared_error\")\n",
    "    gs.fit(X, y)\n",
    "    return gs\n",
    "\n",
    "bestmodel = cv_optimize_ridge(Xtrain, ytrain, n_folds=4)\n",
    "bestmodel.best_estimator_, bestmodel.best_params_, bestmodel.best_score_, bestmodel.grid_scores_"
   ]
  },
  {
   "cell_type": "code",
   "execution_count": 135,
   "metadata": {
    "collapsed": false
   },
   "outputs": [
    {
     "data": {
      "image/png": "[encoded data removed]",
      "text/plain": [
       "<matplotlib.figure.Figure at 0x10da09d10>"
      ]
     },
     "metadata": {},
     "output_type": "display_data"
    }
   ],
   "source": [
    "alphawechoose = bestmodel.best_params_['alpha']\n",
    "clf = Ridge(alpha=alphawechoose).fit(Xtrain,ytrain)\n",
    "\n",
    "fig, rows = plt.subplots(1, 2, figsize=(12, 5))\n",
    "l,r = rows\n",
    "plot_functions(clf, l, df, d, alphawechoose, xtrain, ytrain, Xtrain, xtest, ytest)\n",
    "plot_coefficients(clf, r, alphawechoose)"
   ]
  },
  {
   "cell_type": "code",
   "execution_count": null,
   "metadata": {
    "collapsed": true
   },
   "outputs": [],
   "source": []
  }
 ],
 "metadata": {
  "kernelspec": {
   "display_name": "Python 2",
   "language": "python",
   "name": "python2"
  },
  "language_info": {
   "codemirror_mode": {
    "name": "ipython",
    "version": 2
   },
   "file_extension": ".py",
   "mimetype": "text/x-python",
   "name": "python",
   "nbconvert_exporter": "python",
   "pygments_lexer": "ipython2",
   "version": "2.7.9"
  }
 },
 "nbformat": 4,
 "nbformat_minor": 0
}
